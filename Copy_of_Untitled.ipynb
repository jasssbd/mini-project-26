{
  "nbformat": 4,
  "nbformat_minor": 0,
  "metadata": {
    "colab": {
      "provenance": [],
      "include_colab_link": true
    },
    "kernelspec": {
      "name": "python3",
      "display_name": "Python 3"
    },
    "language_info": {
      "name": "python"
    }
  },
  "cells": [
    {
      "cell_type": "markdown",
      "metadata": {
        "id": "view-in-github",
        "colab_type": "text"
      },
      "source": [
        "<a href=\"https://colab.research.google.com/github/jasssbd/mini-project-26/blob/main/Copy_of_Untitled.ipynb\" target=\"_parent\"><img src=\"https://colab.research.google.com/assets/colab-badge.svg\" alt=\"Open In Colab\"/></a>"
      ]
    },
    {
      "cell_type": "code",
      "execution_count": 1,
      "metadata": {
        "colab": {
          "base_uri": "https://localhost:8080/"
        },
        "id": "3X3vqdPcrQ9L",
        "outputId": "7a15daf6-5f5d-4337-ffe0-46ce236e32d1"
      },
      "outputs": [
        {
          "output_type": "stream",
          "name": "stdout",
          "text": [
            "❌ Could not open video.\n",
            "❌ Resized video file not found.\n"
          ]
        }
      ],
      "source": [
        "\n",
        "# STEP 3 - Resize Video to 50% using OpenCV\n",
        "\n",
        "import cv2\n",
        "from google.colab.patches import cv2_imshow\n",
        "import os\n",
        "\n",
        "input_path = \"/content/input_video.mp4\"\n",
        "output_path = \"resized_video.mp4\"\n",
        "\n",
        "# Open input video\n",
        "cap = cv2.VideoCapture(input_path)\n",
        "\n",
        "if not cap.isOpened():\n",
        "    print(\"❌ Could not open video.\")\n",
        "else:\n",
        "    orig_width = int(cap.get(cv2.CAP_PROP_FRAME_WIDTH))\n",
        "    orig_height = int(cap.get(cv2.CAP_PROP_FRAME_HEIGHT))\n",
        "    fps = cap.get(cv2.CAP_PROP_FPS)\n",
        "    fourcc = cv2.VideoWriter_fourcc(*'mp4v')\n",
        "\n",
        "    # Compute new dimensions (50% smaller)\n",
        "    new_width = orig_width // 2\n",
        "    new_height = orig_height // 2\n",
        "\n",
        "    # Ensure even numbers\n",
        "    if new_width % 2 != 0:\n",
        "        new_width -= 1\n",
        "    if new_height % 2 != 0:\n",
        "        new_height -= 1\n",
        "\n",
        "    print(f\"Original size: {orig_width} x {orig_height}\")\n",
        "    print(f\"New size:      {new_width} x {new_height}\")\n",
        "\n",
        "    # Create VideoWriter\n",
        "    out = cv2.VideoWriter(output_path, fourcc, fps, (new_width, new_height))\n",
        "\n",
        "    frame_count = 0\n",
        "\n",
        "    while True:\n",
        "        ret, frame = cap.read()\n",
        "        if not ret:\n",
        "            break\n",
        "\n",
        "        # Resize frame\n",
        "        resized_frame = cv2.resize(frame, (new_width, new_height), interpolation=cv2.INTER_AREA)\n",
        "\n",
        "        # Write resized frame\n",
        "        out.write(resized_frame)\n",
        "\n",
        "        # Show preview of first few frames\n",
        "        if frame_count < 3:\n",
        "            cv2_imshow(resized_frame)\n",
        "\n",
        "        frame_count += 1\n",
        "\n",
        "    cap.release()\n",
        "    out.release()\n",
        "\n",
        "    print(f\"✅ Video resized and saved as {output_path}. Total frames processed: {frame_count}\")\n",
        "\n",
        "# ------------------------------------------\n",
        "# STEP 4 - Display resized video player in Colab\n",
        "\n",
        "from IPython.display import HTML\n",
        "from base64 import b64encode\n",
        "\n",
        "if os.path.exists(output_path):\n",
        "    mp4 = open(output_path,'rb').read()\n",
        "    data_url = \"data:video/mp4;base64,\" + b64encode(mp4).decode()\n",
        "    display(HTML(f\"\"\"\n",
        "      <video width=500 controls>\n",
        "          <source src=\"{data_url}\" type=\"video/mp4\">\n",
        "      </video>\n",
        "    \"\"\"))\n",
        "else:\n",
        "    print(\"❌ Resized video file not found.\")\n"
      ]
    }
  ]
}